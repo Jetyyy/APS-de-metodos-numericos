{
  "nbformat": 4,
  "nbformat_minor": 0,
  "metadata": {
    "colab": {
      "provenance": [],
      "toc_visible": true,
      "authorship_tag": "ABX9TyMNfRupXk7OpjqkVvDLSiFi",
      "include_colab_link": true
    },
    "kernelspec": {
      "name": "python3",
      "display_name": "Python 3"
    },
    "language_info": {
      "name": "python"
    }
  },
  "cells": [
    {
      "cell_type": "markdown",
      "metadata": {
        "id": "view-in-github",
        "colab_type": "text"
      },
      "source": [
        "<a href=\"https://colab.research.google.com/github/Jetyyy/APS-de-metodos-numericos/blob/main/Untitled0.ipynb\" target=\"_parent\"><img src=\"https://colab.research.google.com/assets/colab-badge.svg\" alt=\"Open In Colab\"/></a>"
      ]
    },
    {
      "cell_type": "code",
      "execution_count": 4,
      "metadata": {
        "colab": {
          "base_uri": "https://localhost:8080/"
        },
        "id": "0jmRj70I2gH5",
        "outputId": "3552b3ce-c1a7-4015-eac6-1707cd3eb11f"
      },
      "outputs": [
        {
          "output_type": "stream",
          "name": "stdout",
          "text": [
            "Número em binário: 111111111111101011101101101000010000\n",
            "Número em octal: 777753555020\n",
            "Número em heptadecimal: 4651541465634\n"
          ]
        }
      ],
      "source": [
        "# 925 - MÉTODOS NUMÉRICOS COMPUTACIONAIS 2023/1\n",
        "# jose chrispim de souza neto\n",
        "# matricula 2021100972\n",
        "\n",
        "num_hex = \"FFFAEDA10\"\n",
        "\n",
        "# Convertendo para binário\n",
        "num_bin = bin(int(num_hex, 16))[2:]\n",
        "\n",
        "# Convertendo para octal\n",
        "num_oct = oct(int(num_hex, 16))[2:]\n",
        "\n",
        "# Convertendo para heptadecimal\n",
        "num_hep = \"\"\n",
        "num_dec = int(num_hex, 16)\n",
        "while num_dec > 0:\n",
        "    num_hep = str(num_dec % 7) + num_hep\n",
        "    num_dec = num_dec // 7\n",
        "\n",
        "print(\"Número em binário:\", num_bin)\n",
        "print(\"Número em octal:\", num_oct)\n",
        "print(\"Número em heptadecimal:\", num_hep)\n",
        "\n"
      ]
    }
  ]
}