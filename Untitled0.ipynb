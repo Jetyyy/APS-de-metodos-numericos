{
  "nbformat": 4,
  "nbformat_minor": 0,
  "metadata": {
    "colab": {
      "provenance": [],
      "toc_visible": true,
      "authorship_tag": "ABX9TyNxqHYfDN+dFrXVwr1zWQtn",
      "include_colab_link": true
    },
    "kernelspec": {
      "name": "python3",
      "display_name": "Python 3"
    },
    "language_info": {
      "name": "python"
    }
  },
  "cells": [
    {
      "cell_type": "markdown",
      "metadata": {
        "id": "view-in-github",
        "colab_type": "text"
      },
      "source": [
        "<a href=\"https://colab.research.google.com/github/Jetyyy/APS-de-metodos-numericos/blob/main/Untitled0.ipynb\" target=\"_parent\"><img src=\"https://colab.research.google.com/assets/colab-badge.svg\" alt=\"Open In Colab\"/></a>"
      ]
    },
    {
      "cell_type": "markdown",
      "source": [
        "# Nova seção"
      ],
      "metadata": {
        "id": "KdYIErES776N"
      }
    },
    {
      "cell_type": "code",
      "source": [
        "# 925 - MÉTODOS NUMÉRICOS COMPUTACIONAIS 2023/1\n",
        "# jose chrispim de souza neto\n",
        "# matricula 2021100972\n",
        "\n",
        "#Questão 02: Considere uma variável x com valor inicial igual a 10. Em seguida, realize a operação\n",
        "#x dividido por 2 e atualize x com o resultado. Continue nesse processo até que x atinja uma precisão\n",
        "#de 1E-06. Responda:\n",
        "#a. Apresente o programa\n",
        "#b. Qual o último valor de x?\n",
        "#c. Quantas iterações teve o método?\n",
        "#d. Esboce o gráfico de x ao longo do tempo\n",
        "\n",
        "import matplotlib.pyplot as plt\n",
        "\n",
        "x = 10\n",
        "precisao = 1E-06\n",
        "iteracoes = 0\n",
        "historico_x = [x]\n",
        "\n",
        "while x > precisao:\n",
        "    x = x / 2\n",
        "    iteracoes += 1\n",
        "    historico_x.append(x)\n",
        "\n",
        "print(\"O último valor de x é:\", x)\n",
        "print(\"O método teve\", iteracoes, \"iterações\")\n",
        "\n",
        "plt.plot(range(iteracoes + 1), historico_x)\n",
        "plt.xlabel(\"Iterações\")\n",
        "plt.ylabel(\"Valor de x\")\n",
        "plt.show()\n",
        "\n"
      ],
      "metadata": {
        "colab": {
          "base_uri": "https://localhost:8080/",
          "height": 486
        },
        "id": "xw0iyUo65GD_",
        "outputId": "7a408e48-14d0-4af1-9a23-1955f2061f59"
      },
      "execution_count": 5,
      "outputs": [
        {
          "output_type": "stream",
          "name": "stdout",
          "text": [
            "O último valor de x é: 5.960464477539062e-07\n",
            "O método teve 24 iterações\n"
          ]
        },
        {
          "output_type": "display_data",
          "data": {
            "text/plain": [
              "<Figure size 640x480 with 1 Axes>"
            ],
            "image/png": "[encoded data removed]"
          },
          "metadata": {}
        }
      ]
    },
    {
      "cell_type": "code",
      "source": [
        "# 925 - MÉTODOS NUMÉRICOS COMPUTACIONAIS 2023/1\n",
        "# jose chrispim de souza neto\n",
        "# matricula 2021100972\n",
        "\n",
        "#Questão 01: Dado o número FFFAEDA10 na base hexadecimal. faça a conversão para as bases:\n",
        "#- binária\n",
        "#- octal\n",
        "#- heptadecimal (base 7).\n",
        "\n",
        "\n",
        "num_hex = \"FFFAEDA10\"\n",
        "\n",
        "# Convertendo para binário\n",
        "num_bin = bin(int(num_hex, 16))[2:]\n",
        "\n",
        "# Convertendo para octal\n",
        "num_oct = oct(int(num_hex, 16))[2:]\n",
        "\n",
        "# Convertendo para heptadecimal\n",
        "num_hep = \"\"\n",
        "num_dec = int(num_hex, 16)\n",
        "while num_dec > 0:\n",
        "    num_hep = str(num_dec % 7) + num_hep\n",
        "    num_dec = num_dec // 7\n",
        "\n",
        "print(\"Número em binário:\", num_bin)\n",
        "print(\"Número em octal:\", num_oct)\n",
        "print(\"Número em heptadecimal:\", num_hep)"
      ],
      "metadata": {
        "colab": {
          "base_uri": "https://localhost:8080/"
        },
        "id": "TGjqr-UW7856",
        "outputId": "3498c632-dc52-4c9c-eb94-3d89f457d9f7"
      },
      "execution_count": 6,
      "outputs": [
        {
          "output_type": "stream",
          "name": "stdout",
          "text": [
            "Número em binário: 111111111111101011101101101000010000\n",
            "Número em octal: 777753555020\n",
            "Número em heptadecimal: 4651541465634\n"
          ]
        }
      ]
    },
    {
      "cell_type": "code",
      "source": [
        "# 925 - MÉTODOS NUMÉRICOS COMPUTACIONAIS 2023/1\n",
        "# jose chrispim de souza neto\n",
        "# matricula 2021100972\n",
        "\n",
        "#Questão 03: Dada a equação f(x) = x4\n",
        "#-7x2 + x - 8 = 0, obtenha o valor aproximado da raiz. Utilizando\n",
        "#os métodos da bissecção e quase-newton no intervalo [-5; 5] com precisão 1E-06. Apresente:\n",
        "#a. Os códigos\n",
        "#b. A quantidade de iterações para cada método\n",
        "#c. Qual o valor de x para cada um dos métodos\n",
        "\n",
        "import numpy as np\n",
        "\n",
        "#Para resolver essa questão, podemos usar os métodos da bissecção e quase-Newton para encontrar a raiz da função f(x) = x^4 - 7x^2 + x - 8 com precisão de 1E-06 no intervalo [-5, 5].\n",
        "#Para começar, importaremos a biblioteca numpy para realizar as operações matemáticas necessárias:\n",
        "\n",
        "def bisseccao(f, a, b, precisao):\n",
        "    i = 0\n",
        "    while abs(b - a) > precisao:\n",
        "        c = (a + b) / 2\n",
        "        if f(c) == 0:\n",
        "            return c\n",
        "        elif f(c) * f(a) < 0:\n",
        "            b = c\n",
        "        else:\n",
        "            a = c\n",
        "        i += 1\n",
        "    return (a + b) / 2, i\n",
        "\n",
        "# f: a função a ser avaliada\n",
        "# a: o limite inferior do intervalo\n",
        "# b: o limite superior do intervalo\n",
        "# precisao: a precisão desejada\n",
        "\n",
        "#O método retorna uma tupla com a raiz aproximada e o número de iterações necessárias para alcançar a precisão desejada.\n",
        "#Agora podemos usar a função bisseccao() para encontrar a raiz da função f(x) no intervalo [-5, 5]:\n",
        "\n",
        "f = lambda x: x*4 - 7*x*2 + x - 8\n",
        "a, b = -5, 5\n",
        "precisao = 1E-06\n",
        "\n",
        "raiz_bisseccao, iteracoes_bisseccao = bisseccao(f, a, b, precisao)\n",
        "\n",
        "print(f\"A raiz da equação pelo método da bissecção é {raiz_bisseccao:.6f} com {iteracoes_bisseccao} iterações.\")\n",
        "\n",
        "#O código acima define a função f utilizando uma função lambda, que é uma forma abreviada de definir funções em Python.\n",
        "# Em seguida, define os parâmetros do método da bissecção e chama a função bisseccao(), armazenando a raiz e o número de iterações em raiz_bisseccao e iteracoes_bisseccao, respectivamente.\n",
        "# Por fim, o código imprime o resultado.\n",
        "\n",
        "#Método de Quase-Newton\n",
        "#O código a seguir implementa o método de Quase-Newton:\n",
        "def quase_newton(f, x0, precisao):\n",
        "    i = 0\n",
        "    x = x0\n",
        "    H = np.eye(len(x0))\n",
        "    while True:\n",
        "        grad_f = np.gradient(f(x))\n",
        "        d = -H.dot(grad_f)\n",
        "        x_prox = x + alpha*d\n",
        "        s = x_prox - x\n",
        "        y = np.gradient(f(x_prox)) - grad_f\n",
        "        H_prox = H + np.outer(y - H.dot(s), s).dot(H) / np.dot"
      ],
      "metadata": {
        "colab": {
          "base_uri": "https://localhost:8080/"
        },
        "id": "v3LbClx58jZ_",
        "outputId": "61a1f655-de49-48a0-a061-b4c017f99a93"
      },
      "execution_count": 17,
      "outputs": [
        {
          "output_type": "stream",
          "name": "stdout",
          "text": [
            "A raiz da equação pelo método da bissecção é -0.888889 com 24 iterações.\n"
          ]
        }
      ]
    },
    {
      "cell_type": "code",
      "source": [
        "# 925 - MÉTODOS NUMÉRICOS COMPUTACIONAIS 2023/1\n",
        "# jose chrispim de souza neto\n",
        "# matricula 2021100972\n",
        "\n",
        "# Considere a matriz abaixo:\n",
        "#𝐴 = [ 3 2 7]\n",
        "#    [ 2 5 7]\n",
        "#    [ 7 1 8]\n",
        "#Agora, implemente um programa para obter seus:\n",
        "#a. Autovalores e autovetores\n",
        "#b. Decomposição SVD\n",
        "\n",
        "import numpy as np\n",
        "\n",
        "# Define a matriz A\n",
        "A = np.array([[3, 2, 7], [2, 5, 7], [7, 1, 8]])\n",
        "\n",
        "# Obtém os autovalores e autovetores de A\n",
        "autovalores, autovetores = np.linalg.eig(A)\n",
        "\n",
        "print(\"Autovalores: \", autovalores)\n",
        "print(\"Autovetores: \", autovetores)\n",
        "\n",
        "# Obtém a decomposição SVD de A\n",
        "U, S, Vt = np.linalg.svd(A)\n",
        "\n",
        "print(\"Matriz U: \", U)\n",
        "print(\"Matriz S: \", S)\n",
        "print(\"Matriz Vt: \", Vt)\n",
        "\n"
      ],
      "metadata": {
        "colab": {
          "base_uri": "https://localhost:8080/"
        },
        "id": "LyY2mx17ABaV",
        "outputId": "8fa8f6c3-8cf4-4e30-d836-a86959a72959"
      },
      "execution_count": 14,
      "outputs": [
        {
          "output_type": "stream",
          "name": "stdout",
          "text": [
            "Autovalores:  [14.35631335 -1.47439425  3.11808089]\n",
            "Autovetores:  [[-0.49765377 -0.71770766 -0.05354039]\n",
            " [-0.58529731 -0.39690103 -0.96038303]\n",
            " [-0.64013107  0.57215844  0.27349199]]\n",
            "Matriz U:  [[-0.51122121 -0.08505854 -0.85522975]\n",
            " [-0.53607734 -0.74623202  0.39466297]\n",
            " [-0.67176928  0.66022937  0.33589168]]\n",
            "Matriz S:  [15.29608356  4.36493456  0.98852112]\n",
            "Matriz Vt:  [[-0.47778264 -0.28599467 -0.83062073]\n",
            " [ 0.6584213  -0.74251922 -0.12307149]\n",
            " [ 0.58155407  0.6056998  -0.54306778]]\n"
          ]
        }
      ]
    }
  ]
}